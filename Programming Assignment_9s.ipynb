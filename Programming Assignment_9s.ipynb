{
 "cells": [
  {
   "cell_type": "code",
   "execution_count": null,
   "id": "597df8bb",
   "metadata": {},
   "outputs": [],
   "source": [
    "print(\"DISERIUM NUMBER...\")\n",
    "\n",
    "n=int(input(\"enter the number-\"))\n",
    "temp=n\n",
    "x=n\n",
    "count=0\n",
    "while temp>0:\n",
    "    temp=temp//10\n",
    "    count += 1    \n",
    "print(\"Count =\",count)\n",
    "sum=0\n",
    "while x>0:\n",
    "    rem=x%10 \n",
    "    sum=sum+rem**count\n",
    "    x=x//10\n",
    "    count -= 1\n",
    "if sum==n:\n",
    "    print(n,\" is diserium number\")\n",
    "else:\n",
    "    print(n,\" is not diserium number\")\n"
   ]
  },
  {
   "cell_type": "code",
   "execution_count": 21,
   "id": "92d17446",
   "metadata": {},
   "outputs": [
    {
     "name": "stdout",
     "output_type": "stream",
     "text": [
      "HAPPY NUMBER...\n",
      "Enter the number-43\n",
      "43 is not a Happy number\n"
     ]
    }
   ],
   "source": [
    "#1 to 100 diserium numbers\n",
    "\n",
    "def calculateLength(n):    \n",
    "    length = 0;    \n",
    "    while(n != 0):    \n",
    "        length = length + 1;    \n",
    "        n = n//10;    \n",
    "    return length; \n",
    "\n",
    "def sumOfDigits(num):    \n",
    "    rem = sum = 0;    \n",
    "    len = calculateLength(num);    \n",
    "        \n",
    "    while(num > 0):    \n",
    "        rem = num%10;    \n",
    "        sum = sum + (rem**len);    \n",
    "        num = num//10;    \n",
    "        len = len - 1;    \n",
    "    return sum;    \n",
    "      \n",
    "result = 0;    \n",
    "\n",
    "for i in range(1, 101):    \n",
    "    result = sumOfDigits(i);    \n",
    "        \n",
    "    if(result == i):     \n",
    "        print(i,end=' ')  "
   ]
  },
  {
   "cell_type": "code",
   "execution_count": 22,
   "id": "451c86ca",
   "metadata": {},
   "outputs": [
    {
     "name": "stdout",
     "output_type": "stream",
     "text": [
      "HARSHAD NUMBER...\n",
      "Enter the number-78\n",
      "78 is not a Harshad number\n"
     ]
    }
   ],
   "source": [
    "print(\"HAPPY NUMBER...\")\n",
    "\n",
    "num=int(input(\"Enter the number-\"))\n",
    "n=num\n",
    "\n",
    "while n>=10:\n",
    "    sum=0\n",
    "    while n>0:\n",
    "        rem = n%10\n",
    "        sum=sum + rem**2\n",
    "        n=n//10\n",
    "   # print(\"sum:\",sum) #for obtaining calculation\n",
    "    n=sum   \n",
    "\n",
    "if n==1 :\n",
    "    print(num,\"is a Happy  number\")\n",
    "else:\n",
    "    print(num,\"is not a Happy number\")\n",
    "        \n"
   ]
  },
  {
   "cell_type": "code",
   "execution_count": 14,
   "id": "b1508c55",
   "metadata": {},
   "outputs": [
    {
     "name": "stdout",
     "output_type": "stream",
     "text": [
      "List of happy numbers between 1 and 100: \n",
      "1 7 10 13 19 23 28 31 32 44 49 68 70 79 82 86 91 94 97 100 "
     ]
    }
   ],
   "source": [
    "# 1 to 100 happy numbers\n",
    "\n",
    "def isHappyNumber(num):    \n",
    "    rem = sum = 0;    \n",
    "           \n",
    "    while(num > 0):    \n",
    "        rem = num%10;    \n",
    "        sum = sum + (rem*rem);    \n",
    "        num = num//10;    \n",
    "    return sum;    \n",
    "             \n",
    "print(\"List of happy numbers between 1 and 100: \");    \n",
    "for i in range(1, 101):    \n",
    "    result = i;    \n",
    "        \n",
    "      \n",
    "    while(result != 1 and result != 4):    \n",
    "        result = isHappyNumber(result);    \n",
    "        \n",
    "    if(result == 1):    \n",
    "        print(i,end=' ') "
   ]
  },
  {
   "cell_type": "code",
   "execution_count": 16,
   "id": "bde705f1",
   "metadata": {},
   "outputs": [
    {
     "name": "stdout",
     "output_type": "stream",
     "text": [
      "Enter the Minimum Harshad Number = 1\n",
      "Enter the Maximum Harshad Number = 100\n",
      "\n",
      "The List of Harshad Numbers from 1 and 100\n",
      "1   2   3   4   5   6   7   8   9   10   12   18   20   21   24   27   30   36   40   42   45   48   50   54   60   63   70   72   80   81   84   90   100   "
     ]
    }
   ],
   "source": [
    "print(\"HARSHAD NUMBER...\")    \n",
    "\n",
    "num=int(input(\"Enter the number-\"))\n",
    "n=num\n",
    "sum=0\n",
    "while n>0:\n",
    "    rem = n%10\n",
    "    sum=sum + rem\n",
    "    n=n//10  \n",
    "\n",
    "    #print(\"sum:\",sum)\n",
    "\n",
    "if num%sum==0 :\n",
    "    print(num,\"is a Harshad  number\")\n",
    "else:\n",
    "    print(num,\"is not a Harshad number\")    "
   ]
  },
  {
   "cell_type": "code",
   "execution_count": null,
   "id": "2c5dd5aa",
   "metadata": {},
   "outputs": [],
   "source": [
    "#1 t0 100 Harshad number\n",
    "\n",
    "def digitsSum(Number):\n",
    "    Sum = rem = 0\n",
    "    while Number > 0:\n",
    "        rem = Number % 10\n",
    "        Sum = Sum + rem\n",
    "        Number = Number // 10\n",
    "    return Sum\n",
    "\n",
    "minHrd = int(input(\"Enter the Minimum Harshad Number = \"))\n",
    "maxHrd = int(input(\"Enter the Maximum Harshad Number = \"))\n",
    "\n",
    "print(\"\\nThe List of Harshad Numbers from {0} and {1}\".format(minHrd, maxHrd)) \n",
    "\n",
    "for i in range(minHrd, maxHrd + 1):\n",
    "    Sum = digitsSum(i)\n",
    "    if i % Sum == 0:\n",
    "        print(i, end = '   ')\n"
   ]
  }
 ],
 "metadata": {
  "kernelspec": {
   "display_name": "Python 3 (ipykernel)",
   "language": "python",
   "name": "python3"
  },
  "language_info": {
   "codemirror_mode": {
    "name": "ipython",
    "version": 3
   },
   "file_extension": ".py",
   "mimetype": "text/x-python",
   "name": "python",
   "nbconvert_exporter": "python",
   "pygments_lexer": "ipython3",
   "version": "3.9.13"
  }
 },
 "nbformat": 4,
 "nbformat_minor": 5
}

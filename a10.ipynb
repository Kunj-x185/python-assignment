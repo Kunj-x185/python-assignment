{
 "cells": [
  {
   "cell_type": "code",
   "execution_count": 5,
   "id": "a736471d",
   "metadata": {},
   "outputs": [
    {
     "name": "stdout",
     "output_type": "stream",
     "text": [
      "Sum of all elements in list\n",
      "Sum of all elements in given list:  224\n"
     ]
    }
   ],
   "source": [
    "print(\"Sum of all elements in list\")\n",
    "\n",
    "list = [10,23,34,67,90]\n",
    " \n",
    "total = sum(list)\n",
    "\n",
    "print(\"Sum of all elements in given list: \", total)"
   ]
  },
  {
   "cell_type": "code",
   "execution_count": 11,
   "id": "899b5b84",
   "metadata": {},
   "outputs": [
    {
     "name": "stdout",
     "output_type": "stream",
     "text": [
      "Sum of all elements in given list:  720\n"
     ]
    }
   ],
   "source": [
    "from operator import *\n",
    "list = [2,3,4,5,6]\n",
    "total = 1\n",
    " \n",
    "for i in list:\n",
    "    total = mul(i,total)\n",
    "\n",
    "print(\"Sum of all elements in given list: \",total)"
   ]
  },
  {
   "cell_type": "code",
   "execution_count": 15,
   "id": "36e8e687",
   "metadata": {},
   "outputs": [
    {
     "name": "stdout",
     "output_type": "stream",
     "text": [
      "Smallest number is: 5\n"
     ]
    }
   ],
   "source": [
    "list = [22,10,5,34,67,90]\n",
    "\n",
    "list.sort()\n",
    "print(\"Smallest number is:\",list[0])"
   ]
  },
  {
   "cell_type": "code",
   "execution_count": 17,
   "id": "1afe9ed0",
   "metadata": {},
   "outputs": [
    {
     "name": "stdout",
     "output_type": "stream",
     "text": [
      "largest number is: 90\n"
     ]
    }
   ],
   "source": [
    "list = [22,34,67,90,16]\n",
    "\n",
    "list.sort()\n",
    "print(\"largest number is:\",list[-1])"
   ]
  },
  {
   "cell_type": "code",
   "execution_count": 18,
   "id": "e9f5c3fa",
   "metadata": {},
   "outputs": [
    {
     "name": "stdout",
     "output_type": "stream",
     "text": [
      "largest number is: 67\n"
     ]
    }
   ],
   "source": [
    "list = [22,34,67,90,16]\n",
    "\n",
    "list.sort()\n",
    "print(\"2nd largest number is:\",list[-2])"
   ]
  },
  {
   "cell_type": "code",
   "execution_count": 22,
   "id": "a344257f",
   "metadata": {},
   "outputs": [
    {
     "name": "stdout",
     "output_type": "stream",
     "text": [
      "22 34 90 16 "
     ]
    }
   ],
   "source": [
    "list = [22,34,67,90,16,33,23]\n",
    "for num in list:\n",
    "    if num%2==0:\n",
    "        print(num,end=\" \")"
   ]
  },
  {
   "cell_type": "code",
   "execution_count": 23,
   "id": "63b81f0f",
   "metadata": {},
   "outputs": [
    {
     "name": "stdout",
     "output_type": "stream",
     "text": [
      "67 33 23 "
     ]
    }
   ],
   "source": [
    "list = [22,34,67,90,16,33,23]\n",
    "for num in list:\n",
    "    if num%2!=0:\n",
    "        print(num,end=\" \")"
   ]
  },
  {
   "cell_type": "code",
   "execution_count": 26,
   "id": "f23b1894",
   "metadata": {},
   "outputs": [
    {
     "name": "stdout",
     "output_type": "stream",
     "text": [
      "The original list is : [5, 6, [], 3, [], [], 9]\n",
      "List after empty list removal : [5, 6, 3, 9]\n"
     ]
    }
   ],
   "source": [
    "list = [5, 6, [], 3, [], [], 9]\n",
    " \n",
    "print(\"The original list is : \" + str(list))\n",
    " \n",
    "while [] in list :\n",
    "    list.remove([])\n",
    "print(\"List after empty list removal : \" + str(list))"
   ]
  },
  {
   "cell_type": "code",
   "execution_count": 30,
   "id": "ea5e6713",
   "metadata": {},
   "outputs": [
    {
     "name": "stdout",
     "output_type": "stream",
     "text": [
      "N largest elements are: [900, 1000, 3579]\n"
     ]
    }
   ],
   "source": [
    "l = [1000,3579,100,200,-45,900]\n",
    "n = 3\n",
    " \n",
    "l.sort()\n",
    "print(\"N largest elements are:\",l[-n:])"
   ]
  },
  {
   "cell_type": "code",
   "execution_count": 33,
   "id": "ff430b99",
   "metadata": {},
   "outputs": [
    {
     "name": "stdout",
     "output_type": "stream",
     "text": [
      "List before copying: [1, 2, [3, 5], 4]\n",
      "List after copying: [1, 2, [3, 5], 4]\n"
     ]
    }
   ],
   "source": [
    "import copy\n",
    "   \n",
    "li1 = [1, 2, [3,5], 4]\n",
    " \n",
    "li2 = copy.copy(li1)\n",
    " \n",
    "print(\"List before copying:\",li1) \n",
    "print(\"List after copying:\",li2)"
   ]
  },
  {
   "cell_type": "code",
   "execution_count": 39,
   "id": "a8000c1a",
   "metadata": {},
   "outputs": [
    {
     "name": "stdout",
     "output_type": "stream",
     "text": [
      "2 has occurred 3 times\n"
     ]
    }
   ],
   "source": [
    "def countX(list, x):\n",
    "    return list.count(x)\n",
    "\n",
    "list = [2, 6, 2, 10, 5, 20, 10, 30, 2]\n",
    "x = 2\n",
    "print('{} has occurred {} times'.format(x,countX(list, x)))\n"
   ]
  },
  {
   "cell_type": "code",
   "execution_count": null,
   "id": "d47443de",
   "metadata": {},
   "outputs": [],
   "source": []
  }
 ],
 "metadata": {
  "kernelspec": {
   "display_name": "Python 3 (ipykernel)",
   "language": "python",
   "name": "python3"
  },
  "language_info": {
   "codemirror_mode": {
    "name": "ipython",
    "version": 3
   },
   "file_extension": ".py",
   "mimetype": "text/x-python",
   "name": "python",
   "nbconvert_exporter": "python",
   "pygments_lexer": "ipython3",
   "version": "3.9.13"
  }
 },
 "nbformat": 4,
 "nbformat_minor": 5
}
